{
 "cells": [
  {
   "cell_type": "markdown",
   "metadata": {},
   "source": [
    "# **Python Code Obfuscator Demo**\n",
    "---\n",
    "\n",
    "by AbsoluteWinter  \n",
    "version: 1.0.0"
   ]
  },
  {
   "cell_type": "code",
   "execution_count": 1,
   "metadata": {},
   "outputs": [
    {
     "name": "stdout",
     "output_type": "stream",
     "text": [
      "Module loaded. Use COhelp() for help\n",
      "#Here is your obfuscated code:\n",
      "#START\n",
      "exec('\\x69\\x6d\\x70\\x6f\\x72\\x74\\x20\\x62\\x61\\x73\\x65\\x36\\x34')\n",
      "YQyeanUHBsXH='ZXhlYygnXHg2OVx4NmRceDcwXHg2Zlx4NzJceDc0XHgyMFx4NjJceDYxXHg3M1x4NjVceDM2XHgzNFx4'\n",
      "GuBZRYEuVthA='MjBceDYxXHg3M1x4MjBceDY2XHg0Nlx4NjJceDRkXHg3MVx4NGVceDRjXHg2Zlx4NWFceDc4XHg3N1x4'\n",
      "NEseWstMxzni='MmNceDYzXHg2Zlx4NjRceDY1XHg2M1x4NzNceDIwXHg2MVx4NzNceDIwXHg2M1x4NmZceDcwXHg3MFx4'\n",
      "CQJDtGujTPnH='NDVceDQ5XHg2ZFx4NzJceDQxXHg1YVx4NjJceDJjXHg3YVx4NmNceDY5XHg2Mlx4MjBceDYxXHg3M1x4'\n",
      "VnTPUrRsBbxz='MjBceDc0XHg0M1x4NDJceDUzXHg3OFx4NzBceDQ1XHg0N1x4NDJceDYzXHg2ZicpCkxMbHdkam92V2ZR'\n",
      "bgsvBPObVLqg='WT0ncldrbW1hQmRHTicKSUpKdFlLY1ZEZnBtPSdqM0FzTzI5aVhaJwp4VFdIZUhjVlhVcEY9J1BkOGJH'\n",
      "CWrkAGtfzzgD='ZGUwWVUnCkNoYVRJU2VSS1JLeD0nT0JnN0hTTlRaTScKQ1puVm1kUVBzd2JFPSdPLzg9JwpybVhFZ3ZQ'\n",
      "mdrouNzPzOoD='VlZabVI9TExsd2Rqb3ZXZlFZK0lKSnRZS2NWRGZwbSt4VFdIZUhjVlhVcEYrQ2hhVElTZVJLUkt4K0Na'\n",
      "MbjIOywTlGGZ='blZtZFFQc3diRQpKaXFwdURBb3Z4RUVlWmk9ZXZhbCgnXHg2Mlx4NjFceDczXHg2NVx4MzZceDM0XHgy'\n",
      "DMAIzpmjoBCy='ZVx4NjJceDM2XHgzNFx4NjRceDY1XHg2M1x4NmZceDY0XHg2NVx4MjhceDI3XHg2M1x4NmRceDM5XHgz'\n",
      "UROGdVNjzjoB='MFx4NThceDdhXHg0NVx4N2FceDI3XHgyZVx4NjVceDZlXHg2M1x4NmZceDY0XHg2NVx4MjhceDI5XHgy'\n",
      "BzFKxEIIFIIQ='OScpLmRlY29kZSgpCmJkRUR6SXB4dnNuUlR2SD0nXHgzY1x4NzNceDc0XHg3Mlx4NjlceDZlXHg2N1x4'\n",
      "EMmHLZqImnvf='M2UnClBQd216bFFHb3pMcnVQcT0nXHg2NVx4NzhceDY1XHg2MycKZXhlYygnXHg2NVx4NzZceDYxXHg2'\n",
      "fTErWsnPwAyS='Y1x4MjhceDYzXHg2Zlx4NmRceDcwXHg2OVx4NmNceDY1XHgyOFx4NjZceDQ2XHg2Mlx4NGRceDcxXHg0'\n",
      "YMcumiQMOseO='ZVx4NGNceDZmXHg1YVx4NzhceDc3XHgyZVx4NjJceDM2XHgzNFx4NjRceDY1XHg2M1x4NmZceDY0XHg2'\n",
      "heLMxymyLLQX='NVx4MjhceDc0XHg0M1x4NDJceDUzXHg3OFx4NzBceDQ1XHg0N1x4NDJceDYzXHg2Zlx4MmVceDY0XHg2'\n",
      "rbvoiCJZYbrS='NVx4NjNceDZmXHg2ZFx4NzBceDcyXHg2NVx4NzNceDczXHgyOFx4NjZceDQ2XHg2Mlx4NGRceDcxXHg0'\n",
      "kSCXIhoJJPic='ZVx4NGNceDZmXHg1YVx4NzhceDc3XHgyZVx4NjJceDM2XHgzNFx4NjRceDY1XHg2M1x4NmZceDY0XHg2'\n",
      "CNVhTHquyWPF='NVx4MjhceDYzXHg2Zlx4NzBceDcwXHg0NVx4NDlceDZkXHg3Mlx4NDFceDVhXHg2Mlx4MmVceDY1XHg2'\n",
      "BknSlvoRzayL='ZVx4NjNceDZmXHg2NFx4NjVceDI4XHg3Mlx4NmRceDU4XHg0NVx4NjdceDc2XHg1MFx4NTZceDU2XHg1'\n",
      "wuNBWpXKhAPn='YVx4NmRceDUyXHgyY1x4NGFceDY5XHg3MVx4NzBceDc1XHg0NFx4NDFceDZmXHg3Nlx4NzhceDQ1XHg0'\n",
      "BbZjShvrprxY='NVx4NjVceDVhXHg2OVx4MjlceDJlXHg2NVx4NmVceDYzXHg2Zlx4NjRceDY1XHgyOFx4MjlceDI5XHgy'\n",
      "BNzzROBpxkZm='OVx4MjlceDJjXHg2Mlx4NjRceDQ1XHg0NFx4N2FceDQ5XHg3MFx4NzhceDc2XHg3M1x4NmVceDUyXHg1'\n",
      "lGYHEkidrrfN='NFx4NzZceDQ4XHgyY1x4NTBceDUwXHg3N1x4NmRceDdhXHg2Y1x4NTFceDQ3XHg2Zlx4N2FceDRjXHg3'\n",
      "uPrdQhGKNHUK='Mlx4NzVceDUwXHg3MVx4MjlceDI5JykK'\n",
      "hKGPKLYadoim=YQyeanUHBsXH+GuBZRYEuVthA+NEseWstMxzni+CQJDtGujTPnH+VnTPUrRsBbxz+bgsvBPObVLqg+CWrkAGtfzzgD+mdrouNzPzOoD+MbjIOywTlGGZ+DMAIzpmjoBCy+UROGdVNjzjoB+BzFKxEIIFIIQ+EMmHLZqImnvf+fTErWsnPwAyS+YMcumiQMOseO+heLMxymyLLQX+rbvoiCJZYbrS+kSCXIhoJJPic+CNVhTHquyWPF+BknSlvoRzayL+wuNBWpXKhAPn+BbZjShvrprxY+BNzzROBpxkZm+lGYHEkidrrfN+uPrdQhGKNHUK\n",
      "mUiNhIyfbVqJmCX='\\x3c\\x73\\x74\\x72\\x69\\x6e\\x67\\x3e'\n",
      "sgOyItUEARSlzDQ='\\x65\\x78\\x65\\x63'\n",
      "exec('\\x65\\x76\\x61\\x6c\\x28\\x63\\x6f\\x6d\\x70\\x69\\x6c\\x65\\x28\\x62\\x61\\x73\\x65\\x36\\x34\\x2e\\x62\\x36\\x34\\x64\\x65\\x63\\x6f\\x64\\x65\\x28\\x68\\x4b\\x47\\x50\\x4b\\x4c\\x59\\x61\\x64\\x6f\\x69\\x6d\\x29\\x2c\\x6d\\x55\\x69\\x4e\\x68\\x49\\x79\\x66\\x62\\x56\\x71\\x4a\\x6d\\x43\\x58\\x2c\\x73\\x67\\x4f\\x79\\x49\\x74\\x55\\x45\\x41\\x52\\x53\\x6c\\x7a\\x44\\x51\\x29\\x29')\n",
      "\n",
      "\b#END\n"
     ]
    }
   ],
   "source": [
    "import requests\n",
    "Src1 = \"https://raw.githubusercontent.com/Absolu\"\n",
    "Src2 = \"teWinter/public-stuff/main/Python%20Code\"\n",
    "Src3 = \"%20Obfuscator/Python%20Code%20Obfuscator\"\n",
    "Src4 = \".py\"\n",
    "Src = Src1 + Src2 + Src3 + Src4\n",
    "SrcCode = requests.get(Src)\n",
    "exec(SrcCode.text)\n",
    "\n",
    "yourcode = r\"\"\"\n",
    "print(\"Hello\")\n",
    "\"\"\"\n",
    "\n",
    "print(\"#Here is your obfuscated code:\\n#START\")\n",
    "print(CodeObfuscate(yourcode))\n",
    "print(\"\\b#END\")"
   ]
  }
 ],
 "metadata": {
  "interpreter": {
   "hash": "40b8a29ff4b54631cd3b8ea1451272b0f3e6ccc7575810102caa31eb2e15c577"
  },
  "kernelspec": {
   "display_name": "Python 3.7.9 64-bit",
   "language": "python",
   "name": "python3"
  },
  "language_info": {
   "codemirror_mode": {
    "name": "ipython",
    "version": 3
   },
   "file_extension": ".py",
   "mimetype": "text/x-python",
   "name": "python",
   "nbconvert_exporter": "python",
   "pygments_lexer": "ipython3",
   "version": "3.7.9"
  },
  "orig_nbformat": 4
 },
 "nbformat": 4,
 "nbformat_minor": 2
}
